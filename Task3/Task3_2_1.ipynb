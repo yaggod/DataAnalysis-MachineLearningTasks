{
 "cells": [
  {
   "cell_type": "code",
   "execution_count": 1,
   "id": "db0f814f",
   "metadata": {},
   "outputs": [],
   "source": [
    "import pandas\n",
    "from sklearn.model_selection import train_test_split \n",
    "from sklearn.linear_model import LogisticRegression"
   ]
  },
  {
   "cell_type": "code",
   "execution_count": 2,
   "id": "6625c5c0",
   "metadata": {},
   "outputs": [
    {
     "name": "stdout",
     "output_type": "stream",
     "text": [
      "79.24% of data is lost\n"
     ]
    }
   ],
   "source": [
    "dataset = pandas.read_csv(\"Titanic.csv\")\n",
    "initialSize = dataset.shape[0]\n",
    "\n",
    "dataset.dropna(subset=dataset.columns.difference(['Sex', 'Embarked']), inplace=True)\n",
    "dataset['Embarked'] = pandas.factorize(dataset['Embarked'])[0]\n",
    "dataset['Sex'] = pandas.factorize(dataset['Sex'])[0]\n",
    "dataset.drop(columns=['PassengerId'], inplace=True)\n",
    "\n",
    "newSize = dataset.shape[0]\n",
    "print(f'{(1 - newSize / initialSize) * 100:.2f}% of data is lost')"
   ]
  },
  {
   "cell_type": "code",
   "execution_count": 3,
   "id": "b5947d98",
   "metadata": {},
   "outputs": [
    {
     "name": "stdout",
     "output_type": "stream",
     "text": [
      "Score: 0.7567567567567568\n"
     ]
    }
   ],
   "source": [
    "datasetFeatures = dataset[dataset.columns.difference(['Survived', 'Name', 'Ticket', 'Cabin'])] # excluded few more columns i think not so important\n",
    "\n",
    "X_train, X_test, Y_train, Y_test = train_test_split(datasetFeatures, dataset['Survived'], test_size=0.2, random_state=0)\n",
    "regression = LogisticRegression(random_state=0)\n",
    "regression.fit(X_train, Y_train)\n",
    "\n",
    "print(\"Score:\", regression.score(X_test, Y_test))"
   ]
  },
  {
   "cell_type": "code",
   "execution_count": 4,
   "id": "52506d6f",
   "metadata": {},
   "outputs": [
    {
     "name": "stdout",
     "output_type": "stream",
     "text": [
      "Score: 0.7567567567567568\n"
     ]
    }
   ],
   "source": [
    "datasetFeatures = datasetFeatures[datasetFeatures.columns.difference(['Embarked'])]\n",
    "\n",
    "X_train, X_test, Y_train, Y_test = train_test_split(datasetFeatures, dataset['Survived'], test_size=0.2, random_state=0)\n",
    "regression = LogisticRegression(random_state=0)\n",
    "regression.fit(X_train, Y_train)\n",
    "\n",
    "print(\"Score:\", regression.score(X_test, Y_test))"
   ]
  },
  {
   "cell_type": "markdown",
   "id": "bb0ea36c",
   "metadata": {},
   "source": [
    "Как можно заметить, влияние признака Embarked на результат достаточно малое"
   ]
  }
 ],
 "metadata": {
  "kernelspec": {
   "display_name": "Python 3",
   "language": "python",
   "name": "python3"
  },
  "language_info": {
   "codemirror_mode": {
    "name": "ipython",
    "version": 3
   },
   "file_extension": ".py",
   "mimetype": "text/x-python",
   "name": "python",
   "nbconvert_exporter": "python",
   "pygments_lexer": "ipython3",
   "version": "3.12.5"
  }
 },
 "nbformat": 4,
 "nbformat_minor": 5
}
