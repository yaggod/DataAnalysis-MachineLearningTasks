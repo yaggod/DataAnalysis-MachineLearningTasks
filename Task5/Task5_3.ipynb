{
 "cells": [
  {
   "cell_type": "code",
   "execution_count": 29,
   "id": "147ffc7e",
   "metadata": {},
   "outputs": [],
   "source": [
    "import pandas\n",
    "from sklearn.model_selection import train_test_split\n",
    "from sklearn.metrics import accuracy_score\n",
    "import time\n",
    "from xgboost import XGBClassifier\n",
    "from sklearn.model_selection import RandomizedSearchCV\n",
    "from scipy import stats\n",
    "from hyperopt import hp, fmin, tpe, Trials, STATUS_OK"
   ]
  },
  {
   "cell_type": "code",
   "execution_count": 30,
   "id": "d28309a6",
   "metadata": {},
   "outputs": [],
   "source": [
    "dataset = pandas.read_csv(\"diabetes.csv\")\n",
    "\n",
    "X = dataset[dataset.columns.difference([\"Outcome\"])]\n",
    "target = dataset[\"Outcome\"]\n",
    "X_train, X_test, Y_train, Y_test = train_test_split(X, target, test_size=0.2, random_state=0)"
   ]
  },
  {
   "cell_type": "code",
   "execution_count": 31,
   "id": "6f182e66",
   "metadata": {},
   "outputs": [
    {
     "name": "stdout",
     "output_type": "stream",
     "text": [
      "Best params: {'max_depth': 7, 'n_estimators': 15, 'reg_alpha': np.float64(731.9939418114051), 'reg_lambda': np.float64(598.6584841970366)}\n",
      "Time: 5.909210205078125 seconds\n"
     ]
    }
   ],
   "source": [
    "classifier = XGBClassifier()\n",
    "param_distributions  = {\n",
    "    'max_depth': range(1, 20),\n",
    "    'reg_alpha': stats.uniform(0, 1000),\n",
    "    'reg_lambda': stats.uniform(0, 1000),\n",
    "    'n_estimators': range(1, 20),\n",
    "}\n",
    "\n",
    "startTime = time.time()\n",
    "random_search = RandomizedSearchCV(classifier, param_distributions, n_iter=100, random_state=42)\n",
    "random_search.fit(X_train, Y_train)\n",
    "searchTime = time.time() - startTime\n",
    "print(\"Best params:\", random_search.best_params_)\n",
    "print(\"Time:\", searchTime, \"seconds\")"
   ]
  },
  {
   "cell_type": "code",
   "execution_count": 32,
   "id": "47060f8a",
   "metadata": {},
   "outputs": [
    {
     "name": "stdout",
     "output_type": "stream",
     "text": [
      "100%|██████████| 100/100 [00:01<00:00, 65.96trial/s, best loss: -0.6948051948051948]\n",
      "Best params: {'max_depth': np.int64(8), 'n_estimators': np.int64(0), 'reg_alpha': np.float64(485.05774248022647), 'reg_lambda': np.float64(335.14578479857704)}\n",
      "Time: 1.5250003337860107 seconds\n"
     ]
    }
   ],
   "source": [
    "space = {\n",
    "    'max_depth': hp.choice('max_depth', range(1, 20)),\n",
    "    'reg_alpha': hp.uniform('reg_alpha', 0, 1000),\n",
    "    'reg_lambda': hp.uniform('reg_lambda', 0, 1000),\n",
    "    'n_estimators': hp.choice('n_estimators', range(1, 20)),\n",
    "}\n",
    "\n",
    "def objective(parameters):\n",
    "    classifier = XGBClassifier(**parameters)\n",
    "    classifier.fit(X_train, Y_train)\n",
    "    Y_predicted = classifier.predict(X_test)\n",
    "    accuracy = accuracy_score(Y_test, Y_predicted)\n",
    "    \n",
    "    return {'loss': -accuracy, 'status': STATUS_OK}\n",
    "\n",
    "\n",
    "startTime = time.time()\n",
    "\n",
    "trials = Trials()\n",
    "best_parameters = fmin(\n",
    "    fn=objective,\n",
    "    space=space,\n",
    "    algo=tpe.suggest,\n",
    "    max_evals=100,\n",
    "    trials=trials,\n",
    ")\n",
    "\n",
    "searchTime = time.time() - startTime\n",
    "\n",
    "print(\"Best params:\", best_parameters)\n",
    "print(\"Time:\", searchTime, \"seconds\")"
   ]
  },
  {
   "cell_type": "markdown",
   "id": "98bda5e6",
   "metadata": {},
   "source": [
    "Как можно заметить, разные алгоритмы подобрали разные значения гиперпараметров, при чем второй алгоритм сделал это в несколько раз быстрее."
   ]
  }
 ],
 "metadata": {
  "kernelspec": {
   "display_name": "Python 3",
   "language": "python",
   "name": "python3"
  },
  "language_info": {
   "codemirror_mode": {
    "name": "ipython",
    "version": 3
   },
   "file_extension": ".py",
   "mimetype": "text/x-python",
   "name": "python",
   "nbconvert_exporter": "python",
   "pygments_lexer": "ipython3",
   "version": "3.12.5"
  }
 },
 "nbformat": 4,
 "nbformat_minor": 5
}
