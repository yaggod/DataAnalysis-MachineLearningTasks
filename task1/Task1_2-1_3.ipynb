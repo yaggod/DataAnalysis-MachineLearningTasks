{
 "cells": [
  {
   "cell_type": "code",
   "execution_count": 1,
   "id": "58d560f0",
   "metadata": {},
   "outputs": [],
   "source": [
    "from sklearn import datasets\n",
    "from sklearn.linear_model import LinearRegression \n",
    "from sklearn.model_selection import train_test_split \n",
    "from matplotlib import pyplot\n",
    "import pandas"
   ]
  },
  {
   "cell_type": "code",
   "execution_count": 2,
   "id": "a0a0698a",
   "metadata": {},
   "outputs": [],
   "source": [
    "dataset = datasets.load_diabetes(as_frame=True)\n",
    "X = dataset.data[[\"bp\"]]\n",
    "Y = dataset.target\n",
    "X_train, X_test, Y_train, Y_test = train_test_split(X, Y, test_size=0.2, random_state=0)\n"
   ]
  },
  {
   "cell_type": "code",
   "execution_count": 3,
   "id": "3da23d81",
   "metadata": {},
   "outputs": [],
   "source": [
    "regression = LinearRegression()\n",
    "regression.fit(X_train, Y_train)\n",
    "Y_predSKL = regression.predict(X_test)\n"
   ]
  },
  {
   "cell_type": "code",
   "execution_count": 4,
   "id": "4a4842ac",
   "metadata": {},
   "outputs": [],
   "source": [
    "from LinearFunction import LinearFunction\n",
    "linearApproximation = LinearFunction.FindApproximatedLinearFunction(X_train.values, Y_train.values)\n",
    "Y_predManual = [linearApproximation(x)[0] for x in X_test.values]"
   ]
  },
  {
   "cell_type": "code",
   "execution_count": 5,
   "id": "9dd015b7",
   "metadata": {},
   "outputs": [
    {
     "data": {
      "text/plain": [
       "[<matplotlib.lines.Line2D at 0x19eacbd5d00>]"
      ]
     },
     "execution_count": 5,
     "metadata": {},
     "output_type": "execute_result"
    },
    {
     "data": {
      "image/png": "[encoded data removed]",
      "text/plain": [
       "<Figure size 640x480 with 3 Axes>"
      ]
     },
     "metadata": {},
     "output_type": "display_data"
    }
   ],
   "source": [
    "fig, (axis1, axis2, axis3) =  pyplot.subplots(3)\n",
    "axis1.plot(X_test, Y_test, \"o\", color=\"r\")\n",
    "axis2.plot(X_test, Y_predSKL, \"o\", color=\"r\")\n",
    "axis3.plot(X_test, Y_predManual, \"o\", color=\"r\")"
   ]
  },
  {
   "cell_type": "code",
   "execution_count": 6,
   "id": "ebc9c25c",
   "metadata": {},
   "outputs": [
    {
     "name": "stdout",
     "output_type": "stream",
     "text": [
      "SKLearn:\n",
      "\t y = 737.0020277683608x + 152.09319368130312\n",
      "Manual:\n",
      "\t y = 737.0020277683604x + 152.09319368130312\n"
     ]
    },
    {
     "data": {
      "text/html": [
       "<div>\n",
       "<style scoped>\n",
       "    .dataframe tbody tr th:only-of-type {\n",
       "        vertical-align: middle;\n",
       "    }\n",
       "\n",
       "    .dataframe tbody tr th {\n",
       "        vertical-align: top;\n",
       "    }\n",
       "\n",
       "    .dataframe thead th {\n",
       "        text-align: right;\n",
       "    }\n",
       "</style>\n",
       "<table border=\"1\" class=\"dataframe\">\n",
       "  <thead>\n",
       "    <tr style=\"text-align: right;\">\n",
       "      <th></th>\n",
       "      <th>Actual</th>\n",
       "      <th>Predicted (SKL)</th>\n",
       "      <th>Predicted (Manual)</th>\n",
       "    </tr>\n",
       "  </thead>\n",
       "  <tbody>\n",
       "    <tr>\n",
       "      <th>362</th>\n",
       "      <td>321.0</td>\n",
       "      <td>203.736620</td>\n",
       "      <td>203.736620</td>\n",
       "    </tr>\n",
       "    <tr>\n",
       "      <th>249</th>\n",
       "      <td>215.0</td>\n",
       "      <td>191.049680</td>\n",
       "      <td>191.049680</td>\n",
       "    </tr>\n",
       "    <tr>\n",
       "      <th>271</th>\n",
       "      <td>127.0</td>\n",
       "      <td>183.437515</td>\n",
       "      <td>183.437515</td>\n",
       "    </tr>\n",
       "    <tr>\n",
       "      <th>435</th>\n",
       "      <td>64.0</td>\n",
       "      <td>122.540199</td>\n",
       "      <td>122.540199</td>\n",
       "    </tr>\n",
       "    <tr>\n",
       "      <th>400</th>\n",
       "      <td>175.0</td>\n",
       "      <td>218.960949</td>\n",
       "      <td>218.960949</td>\n",
       "    </tr>\n",
       "    <tr>\n",
       "      <th>...</th>\n",
       "      <td>...</td>\n",
       "      <td>...</td>\n",
       "      <td>...</td>\n",
       "    </tr>\n",
       "    <tr>\n",
       "      <th>381</th>\n",
       "      <td>104.0</td>\n",
       "      <td>97.166318</td>\n",
       "      <td>97.166318</td>\n",
       "    </tr>\n",
       "    <tr>\n",
       "      <th>213</th>\n",
       "      <td>49.0</td>\n",
       "      <td>135.227140</td>\n",
       "      <td>135.227140</td>\n",
       "    </tr>\n",
       "    <tr>\n",
       "      <th>134</th>\n",
       "      <td>103.0</td>\n",
       "      <td>127.614976</td>\n",
       "      <td>127.614976</td>\n",
       "    </tr>\n",
       "    <tr>\n",
       "      <th>49</th>\n",
       "      <td>142.0</td>\n",
       "      <td>147.914081</td>\n",
       "      <td>147.914081</td>\n",
       "    </tr>\n",
       "    <tr>\n",
       "      <th>52</th>\n",
       "      <td>59.0</td>\n",
       "      <td>147.914081</td>\n",
       "      <td>147.914081</td>\n",
       "    </tr>\n",
       "  </tbody>\n",
       "</table>\n",
       "<p>89 rows × 3 columns</p>\n",
       "</div>"
      ],
      "text/plain": [
       "     Actual  Predicted (SKL)  Predicted (Manual)\n",
       "362   321.0       203.736620          203.736620\n",
       "249   215.0       191.049680          191.049680\n",
       "271   127.0       183.437515          183.437515\n",
       "435    64.0       122.540199          122.540199\n",
       "400   175.0       218.960949          218.960949\n",
       "..      ...              ...                 ...\n",
       "381   104.0        97.166318           97.166318\n",
       "213    49.0       135.227140          135.227140\n",
       "134   103.0       127.614976          127.614976\n",
       "49    142.0       147.914081          147.914081\n",
       "52     59.0       147.914081          147.914081\n",
       "\n",
       "[89 rows x 3 columns]"
      ]
     },
     "execution_count": 6,
     "metadata": {},
     "output_type": "execute_result"
    }
   ],
   "source": [
    "print(f\"SKLearn:\\n\\t y = {regression.coef_[0]}x + {regression.intercept_}\")\n",
    "print(f\"Manual:\\n\\t y = {linearApproximation.k[0]}x + {linearApproximation.b[0]}\")\n",
    "\n",
    "predictedData = pandas.DataFrame({'Actual': Y_test, 'Predicted (SKL)': Y_predSKL, 'Predicted (Manual)' : Y_predManual}) \n",
    "predictedData"
   ]
  },
  {
   "cell_type": "code",
   "execution_count": 7,
   "id": "76bcc3a6",
   "metadata": {},
   "outputs": [
    {
     "name": "stdout",
     "output_type": "stream",
     "text": [
      "MAE: 49.826004651068665\n",
      "R2: 0.18725935383524017\n",
      "MAPE: 0.4202516449956507\n"
     ]
    }
   ],
   "source": [
    "# Вывод метрик\n",
    "from sklearn.metrics import mean_absolute_error, r2_score, mean_absolute_percentage_error\n",
    "print(\"MAE:\", mean_absolute_error(Y_test, Y_predManual))\n",
    "print(\"R2:\", r2_score(Y_test, Y_predManual))\n",
    "print(\"MAPE:\", mean_absolute_percentage_error(Y_test, Y_predManual))"
   ]
  }
 ],
 "metadata": {
  "kernelspec": {
   "display_name": "Python 3",
   "language": "python",
   "name": "python3"
  },
  "language_info": {
   "codemirror_mode": {
    "name": "ipython",
    "version": 3
   },
   "file_extension": ".py",
   "mimetype": "text/x-python",
   "name": "python",
   "nbconvert_exporter": "python",
   "pygments_lexer": "ipython3",
   "version": "3.12.5"
  }
 },
 "nbformat": 4,
 "nbformat_minor": 5
}
